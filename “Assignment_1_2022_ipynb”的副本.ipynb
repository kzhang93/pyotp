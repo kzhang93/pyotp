{
  "cells": [
    {
      "cell_type": "markdown",
      "metadata": {
        "id": "view-in-github",
        "colab_type": "text"
      },
      "source": [
        "<a href=\"https://colab.research.google.com/github/kzhang93/pyotp/blob/develop/%E2%80%9CAssignment_1_2022_ipynb%E2%80%9D%E7%9A%84%E5%89%AF%E6%9C%AC.ipynb\" target=\"_parent\"><img src=\"https://colab.research.google.com/assets/colab-badge.svg\" alt=\"Open In Colab\"/></a>"
      ]
    },
    {
      "cell_type": "markdown",
      "metadata": {
        "id": "etwhDaghLaux"
      },
      "source": [
        "# COMP5318 - Machine Learning and Data Mining: Assignment 1\n",
        "<div style=\"text-align: right\"> Due: Friday Week 7 - Fri 8 April 2022 11:59PM </div>"
      ]
    },
    {
      "cell_type": "markdown",
      "metadata": {
        "nbpresent": {
          "id": "375753da-1c6c-4b02-986a-6e3b185a5869"
        },
        "id": "_PpGchnLLau0"
      },
      "source": [
        "# 1. Summary\n",
        "The goal of this assignment is to build a classifier to classify some grayscale images of the size 28x28 into a set of categories. The dimension of the original data is large, so you need to be smart on which method you gonna use and perhaps perform a pre-processing step to reduce the amount of computation. Part of your marks will be a function of the performance of your classifier on the test set."
      ]
    },
    {
      "cell_type": "markdown",
      "metadata": {
        "id": "L2CukpPALau1"
      },
      "source": [
        "# 2. Dataset description\n",
        "The dataset can be downloaded from Canvas. The dataset consists of a training set of 30,000 examples and a test set of 5,000 examples. They belong to 10 different categories. The validation set is not provided, but you can randomly pick a subset of the training set for validation. The features of the 5,000 test examples are given, you will analyse the performance of your proposed method by uploading the predicted labels of test examples onto [Kaggle Leaderboard](https://www.kaggle.com/t/a781604ffe46a42f903dd4be1b9daf16). You can find the instruction of using the leaderboard in Part 5.2. The leaderboard will compute the accuracy of your model, and team ranking will be shown based on the performance. Please note that we provide only PART of the original Fashion-MNIST, you must use the GIVEN `train.csv` (not the original dataset from the official website) for training; or it will be considered as cheating. <br />\n",
        "Here are examples illustrating samples of the dataset (each class takes one row):"
      ]
    },
    {
      "cell_type": "markdown",
      "metadata": {
        "id": "u6AZWxx_Lau1"
      },
      "source": [
        "### <img src=\"Dataset_image.jpg\" alt=\"DataSet\" title=\"DataSet\" width=\"450\" height=\"300\" />"
      ]
    },
    {
      "cell_type": "code",
      "source": [
        ""
      ],
      "metadata": {
        "id": "5jAaJZEZUVkf"
      },
      "execution_count": null,
      "outputs": []
    },
    {
      "cell_type": "markdown",
      "metadata": {
        "id": "NNVlSeBlLau2"
      },
      "source": [
        "There are 10 classes in total:\n",
        "\n",
        "    - 0 T-shirt/Top\n",
        "    - 1 Trouser\n",
        "    - 2 Pullover\n",
        "    - 3 Dress\n",
        "    - 4 Coat\n",
        "    - 5 Sandal\n",
        "    - 6 Shirt\n",
        "    - 7 Sneaker\n",
        "    - 8 Bag\n",
        "    - 9 Ankle boot"
      ]
    },
    {
      "cell_type": "markdown",
      "metadata": {
        "id": "bdnLR7ggLau2"
      },
      "source": [
        "# 3. How to load the data and make output prediciton\n",
        "There is a Input folder including only 2 files (which can be downloaded from Canvas):\n",
        "\n",
        "    1. train.csv (30000 image samples for training including features and label) \n",
        "    2. test_input.csv (5000 images for prediction)"
      ]
    },
    {
      "cell_type": "markdown",
      "metadata": {
        "id": "h-g5EFrbLau3"
      },
      "source": [
        "## 3.1 How to load the data"
      ]
    },
    {
      "cell_type": "markdown",
      "metadata": {
        "id": "pc3WmDenLau3"
      },
      "source": [
        "To read the *csv* file and load the data into a dataframe using pandas. \n",
        "\n",
        "The **training data files are in the ./Input/train** and **testing data file are in ./Input/test**. <br /> Use the following code:"
      ]
    },
    {
      "cell_type": "code",
      "execution_count": 2,
      "metadata": {
        "id": "NHP1nduMLau4",
        "outputId": "053f88ed-2e43-40e4-f0a0-5c62eb070596",
        "colab": {
          "base_uri": "https://localhost:8080/"
        }
      },
      "outputs": [
        {
          "output_type": "stream",
          "name": "stdout",
          "text": [
            "['train.csv']\n"
          ]
        }
      ],
      "source": [
        "import pandas as pd\n",
        "import os\n",
        "import numpy as np\n",
        "print(os.listdir(\"/content/A1/Input/train\"))\n",
        "pd.set_option('display.max_columns', 10)"
      ]
    },
    {
      "cell_type": "code",
      "source": [
        "from google.colab import drive\n",
        "drive.mount('/content/drive')"
      ],
      "metadata": {
        "colab": {
          "base_uri": "https://localhost:8080/"
        },
        "id": "fIUJ4ILGlsdY",
        "outputId": "70acb940-87fc-4e3a-e1fe-655eb7b3426a"
      },
      "execution_count": 3,
      "outputs": [
        {
          "output_type": "stream",
          "name": "stdout",
          "text": [
            "Mounted at /content/drive\n"
          ]
        }
      ]
    },
    {
      "cell_type": "code",
      "execution_count": 4,
      "metadata": {
        "id": "R9Da8tVbLau6"
      },
      "outputs": [],
      "source": [
        "# train.csv including feature and label using for training model.\n",
        "data_train_df = pd.read_csv('/content/A1/Input/train/train.csv') "
      ]
    },
    {
      "cell_type": "code",
      "execution_count": null,
      "metadata": {
        "id": "hrTESMDrLau6",
        "outputId": "56bfc9f6-6e40-46a0-a3af-75fa615c4ca4",
        "colab": {
          "base_uri": "https://localhost:8080/",
          "height": 235
        }
      },
      "outputs": [
        {
          "output_type": "execute_result",
          "data": {
            "text/plain": [
              "   id  v1  v2  v3  v4  ...  v781  v782  v783  v784  label\n",
              "0   0   0   0   0   0  ...     0     0     0     0      2\n",
              "1   1   0   0   0   0  ...     0     0     0     0      1\n",
              "2   2   0   0   0   0  ...     0     0     0     0      1\n",
              "3   3   0   0   0   1  ...     0     0     0     0      4\n",
              "4   4   0   0   0   0  ...     0     0     0     0      8\n",
              "\n",
              "[5 rows x 786 columns]"
            ],
            "text/html": [
              "\n",
              "  <div id=\"df-3bf07a43-39ec-48ca-90a6-1ba525de54c4\">\n",
              "    <div class=\"colab-df-container\">\n",
              "      <div>\n",
              "<style scoped>\n",
              "    .dataframe tbody tr th:only-of-type {\n",
              "        vertical-align: middle;\n",
              "    }\n",
              "\n",
              "    .dataframe tbody tr th {\n",
              "        vertical-align: top;\n",
              "    }\n",
              "\n",
              "    .dataframe thead th {\n",
              "        text-align: right;\n",
              "    }\n",
              "</style>\n",
              "<table border=\"1\" class=\"dataframe\">\n",
              "  <thead>\n",
              "    <tr style=\"text-align: right;\">\n",
              "      <th></th>\n",
              "      <th>id</th>\n",
              "      <th>v1</th>\n",
              "      <th>v2</th>\n",
              "      <th>v3</th>\n",
              "      <th>v4</th>\n",
              "      <th>...</th>\n",
              "      <th>v781</th>\n",
              "      <th>v782</th>\n",
              "      <th>v783</th>\n",
              "      <th>v784</th>\n",
              "      <th>label</th>\n",
              "    </tr>\n",
              "  </thead>\n",
              "  <tbody>\n",
              "    <tr>\n",
              "      <th>0</th>\n",
              "      <td>0</td>\n",
              "      <td>0</td>\n",
              "      <td>0</td>\n",
              "      <td>0</td>\n",
              "      <td>0</td>\n",
              "      <td>...</td>\n",
              "      <td>0</td>\n",
              "      <td>0</td>\n",
              "      <td>0</td>\n",
              "      <td>0</td>\n",
              "      <td>2</td>\n",
              "    </tr>\n",
              "    <tr>\n",
              "      <th>1</th>\n",
              "      <td>1</td>\n",
              "      <td>0</td>\n",
              "      <td>0</td>\n",
              "      <td>0</td>\n",
              "      <td>0</td>\n",
              "      <td>...</td>\n",
              "      <td>0</td>\n",
              "      <td>0</td>\n",
              "      <td>0</td>\n",
              "      <td>0</td>\n",
              "      <td>1</td>\n",
              "    </tr>\n",
              "    <tr>\n",
              "      <th>2</th>\n",
              "      <td>2</td>\n",
              "      <td>0</td>\n",
              "      <td>0</td>\n",
              "      <td>0</td>\n",
              "      <td>0</td>\n",
              "      <td>...</td>\n",
              "      <td>0</td>\n",
              "      <td>0</td>\n",
              "      <td>0</td>\n",
              "      <td>0</td>\n",
              "      <td>1</td>\n",
              "    </tr>\n",
              "    <tr>\n",
              "      <th>3</th>\n",
              "      <td>3</td>\n",
              "      <td>0</td>\n",
              "      <td>0</td>\n",
              "      <td>0</td>\n",
              "      <td>1</td>\n",
              "      <td>...</td>\n",
              "      <td>0</td>\n",
              "      <td>0</td>\n",
              "      <td>0</td>\n",
              "      <td>0</td>\n",
              "      <td>4</td>\n",
              "    </tr>\n",
              "    <tr>\n",
              "      <th>4</th>\n",
              "      <td>4</td>\n",
              "      <td>0</td>\n",
              "      <td>0</td>\n",
              "      <td>0</td>\n",
              "      <td>0</td>\n",
              "      <td>...</td>\n",
              "      <td>0</td>\n",
              "      <td>0</td>\n",
              "      <td>0</td>\n",
              "      <td>0</td>\n",
              "      <td>8</td>\n",
              "    </tr>\n",
              "  </tbody>\n",
              "</table>\n",
              "<p>5 rows × 786 columns</p>\n",
              "</div>\n",
              "      <button class=\"colab-df-convert\" onclick=\"convertToInteractive('df-3bf07a43-39ec-48ca-90a6-1ba525de54c4')\"\n",
              "              title=\"Convert this dataframe to an interactive table.\"\n",
              "              style=\"display:none;\">\n",
              "        \n",
              "  <svg xmlns=\"http://www.w3.org/2000/svg\" height=\"24px\"viewBox=\"0 0 24 24\"\n",
              "       width=\"24px\">\n",
              "    <path d=\"M0 0h24v24H0V0z\" fill=\"none\"/>\n",
              "    <path d=\"M18.56 5.44l.94 2.06.94-2.06 2.06-.94-2.06-.94-.94-2.06-.94 2.06-2.06.94zm-11 1L8.5 8.5l.94-2.06 2.06-.94-2.06-.94L8.5 2.5l-.94 2.06-2.06.94zm10 10l.94 2.06.94-2.06 2.06-.94-2.06-.94-.94-2.06-.94 2.06-2.06.94z\"/><path d=\"M17.41 7.96l-1.37-1.37c-.4-.4-.92-.59-1.43-.59-.52 0-1.04.2-1.43.59L10.3 9.45l-7.72 7.72c-.78.78-.78 2.05 0 2.83L4 21.41c.39.39.9.59 1.41.59.51 0 1.02-.2 1.41-.59l7.78-7.78 2.81-2.81c.8-.78.8-2.07 0-2.86zM5.41 20L4 18.59l7.72-7.72 1.47 1.35L5.41 20z\"/>\n",
              "  </svg>\n",
              "      </button>\n",
              "      \n",
              "  <style>\n",
              "    .colab-df-container {\n",
              "      display:flex;\n",
              "      flex-wrap:wrap;\n",
              "      gap: 12px;\n",
              "    }\n",
              "\n",
              "    .colab-df-convert {\n",
              "      background-color: #E8F0FE;\n",
              "      border: none;\n",
              "      border-radius: 50%;\n",
              "      cursor: pointer;\n",
              "      display: none;\n",
              "      fill: #1967D2;\n",
              "      height: 32px;\n",
              "      padding: 0 0 0 0;\n",
              "      width: 32px;\n",
              "    }\n",
              "\n",
              "    .colab-df-convert:hover {\n",
              "      background-color: #E2EBFA;\n",
              "      box-shadow: 0px 1px 2px rgba(60, 64, 67, 0.3), 0px 1px 3px 1px rgba(60, 64, 67, 0.15);\n",
              "      fill: #174EA6;\n",
              "    }\n",
              "\n",
              "    [theme=dark] .colab-df-convert {\n",
              "      background-color: #3B4455;\n",
              "      fill: #D2E3FC;\n",
              "    }\n",
              "\n",
              "    [theme=dark] .colab-df-convert:hover {\n",
              "      background-color: #434B5C;\n",
              "      box-shadow: 0px 1px 3px 1px rgba(0, 0, 0, 0.15);\n",
              "      filter: drop-shadow(0px 1px 2px rgba(0, 0, 0, 0.3));\n",
              "      fill: #FFFFFF;\n",
              "    }\n",
              "  </style>\n",
              "\n",
              "      <script>\n",
              "        const buttonEl =\n",
              "          document.querySelector('#df-3bf07a43-39ec-48ca-90a6-1ba525de54c4 button.colab-df-convert');\n",
              "        buttonEl.style.display =\n",
              "          google.colab.kernel.accessAllowed ? 'block' : 'none';\n",
              "\n",
              "        async function convertToInteractive(key) {\n",
              "          const element = document.querySelector('#df-3bf07a43-39ec-48ca-90a6-1ba525de54c4');\n",
              "          const dataTable =\n",
              "            await google.colab.kernel.invokeFunction('convertToInteractive',\n",
              "                                                     [key], {});\n",
              "          if (!dataTable) return;\n",
              "\n",
              "          const docLinkHtml = 'Like what you see? Visit the ' +\n",
              "            '<a target=\"_blank\" href=https://colab.research.google.com/notebooks/data_table.ipynb>data table notebook</a>'\n",
              "            + ' to learn more about interactive tables.';\n",
              "          element.innerHTML = '';\n",
              "          dataTable['output_type'] = 'display_data';\n",
              "          await google.colab.output.renderOutput(dataTable, element);\n",
              "          const docLink = document.createElement('div');\n",
              "          docLink.innerHTML = docLinkHtml;\n",
              "          element.appendChild(docLink);\n",
              "        }\n",
              "      </script>\n",
              "    </div>\n",
              "  </div>\n",
              "  "
            ]
          },
          "metadata": {},
          "execution_count": 8
        }
      ],
      "source": [
        "data_train_df.head()"
      ]
    },
    {
      "cell_type": "markdown",
      "metadata": {
        "id": "OYQFKbeCLau6"
      },
      "source": [
        "Then data would be a dataframe with 30000 samples including 784 features (from v1 to v784) and its label."
      ]
    },
    {
      "cell_type": "code",
      "execution_count": 5,
      "metadata": {
        "id": "DFLCB4HELau7"
      },
      "outputs": [],
      "source": [
        "# Selecting input feature\n",
        "data_train_feature = data_train_df.loc[:, \"v1\":\"v784\"].to_numpy()\n",
        "\n",
        "# Selecting output lable \n",
        "data_train_label = data_train_df.label.to_numpy()"
      ]
    },
    {
      "cell_type": "markdown",
      "metadata": {
        "id": "C4ZVCLS8Lau7"
      },
      "source": [
        "Showing a sample data. The first example belongs to class 2: Pullover"
      ]
    },
    {
      "cell_type": "code",
      "execution_count": 6,
      "metadata": {
        "id": "DgqLs58vLau7",
        "outputId": "721fb722-4b31-4cbd-8ba8-cf54ddc11572",
        "colab": {
          "base_uri": "https://localhost:8080/",
          "height": 281
        }
      },
      "outputs": [
        {
          "output_type": "display_data",
          "data": {
            "text/plain": [
              "<Figure size 432x288 with 1 Axes>"
            ],
            "image/png": "[encoded data removed]"
          },
          "metadata": {
            "needs_background": "light"
          }
        }
      ],
      "source": [
        "import matplotlib.pyplot as plt\n",
        "data_train_feature = data_train_feature.reshape((data_train_feature.shape[0], 28, 28))\n",
        "plt.imshow(data_train_feature[0], cmap=plt.get_cmap('gray'))\n",
        "plt.title(\"class \" + str(data_train_label[0]) + \": Pullover\" )\n",
        "plt.show()"
      ]
    },
    {
      "cell_type": "markdown",
      "metadata": {
        "id": "VdurTiSgLau8"
      },
      "source": [
        "## 3.2 How to loading test data and output the prediction"
      ]
    },
    {
      "cell_type": "code",
      "execution_count": 13,
      "metadata": {
        "id": "ZbBemT6uLau8"
      },
      "outputs": [],
      "source": [
        "# test_input.csv includes 5000 samples used for label prediction. Test samples do not have labels.\n",
        "data_test_df = pd.read_csv('/content/A1/Input/test/test_input.csv', index_col=0) "
      ]
    },
    {
      "cell_type": "code",
      "source": [
        ""
      ],
      "metadata": {
        "id": "B9cm0q6fxz71"
      },
      "execution_count": null,
      "outputs": []
    },
    {
      "cell_type": "code",
      "execution_count": 6,
      "metadata": {
        "id": "9rjvD29eLau8",
        "outputId": "3ceae68d-4bb1-46e0-e812-3d072260e9d4",
        "colab": {
          "base_uri": "https://localhost:8080/",
          "height": 267
        }
      },
      "outputs": [
        {
          "output_type": "execute_result",
          "data": {
            "text/plain": [
              "    v1  v2  v3  v4  v5  ...  v780  v781  v782  v783  v784\n",
              "id                      ...                              \n",
              "0    0   0   0   0   0  ...     0     0     0     0     0\n",
              "1    0   0   0   0   0  ...     0     0     0     0     0\n",
              "2    0   0   0   0   0  ...     0     0     0     0     0\n",
              "3    0   0   0   0   0  ...     0     0     0     0     0\n",
              "4    0   0   0   0   0  ...     0     0     0     0     0\n",
              "\n",
              "[5 rows x 784 columns]"
            ],
            "text/html": [
              "\n",
              "  <div id=\"df-e83dac0c-c5ed-4830-83c1-dd6e5cdafd20\">\n",
              "    <div class=\"colab-df-container\">\n",
              "      <div>\n",
              "<style scoped>\n",
              "    .dataframe tbody tr th:only-of-type {\n",
              "        vertical-align: middle;\n",
              "    }\n",
              "\n",
              "    .dataframe tbody tr th {\n",
              "        vertical-align: top;\n",
              "    }\n",
              "\n",
              "    .dataframe thead th {\n",
              "        text-align: right;\n",
              "    }\n",
              "</style>\n",
              "<table border=\"1\" class=\"dataframe\">\n",
              "  <thead>\n",
              "    <tr style=\"text-align: right;\">\n",
              "      <th></th>\n",
              "      <th>v1</th>\n",
              "      <th>v2</th>\n",
              "      <th>v3</th>\n",
              "      <th>v4</th>\n",
              "      <th>v5</th>\n",
              "      <th>...</th>\n",
              "      <th>v780</th>\n",
              "      <th>v781</th>\n",
              "      <th>v782</th>\n",
              "      <th>v783</th>\n",
              "      <th>v784</th>\n",
              "    </tr>\n",
              "    <tr>\n",
              "      <th>id</th>\n",
              "      <th></th>\n",
              "      <th></th>\n",
              "      <th></th>\n",
              "      <th></th>\n",
              "      <th></th>\n",
              "      <th></th>\n",
              "      <th></th>\n",
              "      <th></th>\n",
              "      <th></th>\n",
              "      <th></th>\n",
              "      <th></th>\n",
              "    </tr>\n",
              "  </thead>\n",
              "  <tbody>\n",
              "    <tr>\n",
              "      <th>0</th>\n",
              "      <td>0</td>\n",
              "      <td>0</td>\n",
              "      <td>0</td>\n",
              "      <td>0</td>\n",
              "      <td>0</td>\n",
              "      <td>...</td>\n",
              "      <td>0</td>\n",
              "      <td>0</td>\n",
              "      <td>0</td>\n",
              "      <td>0</td>\n",
              "      <td>0</td>\n",
              "    </tr>\n",
              "    <tr>\n",
              "      <th>1</th>\n",
              "      <td>0</td>\n",
              "      <td>0</td>\n",
              "      <td>0</td>\n",
              "      <td>0</td>\n",
              "      <td>0</td>\n",
              "      <td>...</td>\n",
              "      <td>0</td>\n",
              "      <td>0</td>\n",
              "      <td>0</td>\n",
              "      <td>0</td>\n",
              "      <td>0</td>\n",
              "    </tr>\n",
              "    <tr>\n",
              "      <th>2</th>\n",
              "      <td>0</td>\n",
              "      <td>0</td>\n",
              "      <td>0</td>\n",
              "      <td>0</td>\n",
              "      <td>0</td>\n",
              "      <td>...</td>\n",
              "      <td>0</td>\n",
              "      <td>0</td>\n",
              "      <td>0</td>\n",
              "      <td>0</td>\n",
              "      <td>0</td>\n",
              "    </tr>\n",
              "    <tr>\n",
              "      <th>3</th>\n",
              "      <td>0</td>\n",
              "      <td>0</td>\n",
              "      <td>0</td>\n",
              "      <td>0</td>\n",
              "      <td>0</td>\n",
              "      <td>...</td>\n",
              "      <td>0</td>\n",
              "      <td>0</td>\n",
              "      <td>0</td>\n",
              "      <td>0</td>\n",
              "      <td>0</td>\n",
              "    </tr>\n",
              "    <tr>\n",
              "      <th>4</th>\n",
              "      <td>0</td>\n",
              "      <td>0</td>\n",
              "      <td>0</td>\n",
              "      <td>0</td>\n",
              "      <td>0</td>\n",
              "      <td>...</td>\n",
              "      <td>0</td>\n",
              "      <td>0</td>\n",
              "      <td>0</td>\n",
              "      <td>0</td>\n",
              "      <td>0</td>\n",
              "    </tr>\n",
              "  </tbody>\n",
              "</table>\n",
              "<p>5 rows × 784 columns</p>\n",
              "</div>\n",
              "      <button class=\"colab-df-convert\" onclick=\"convertToInteractive('df-e83dac0c-c5ed-4830-83c1-dd6e5cdafd20')\"\n",
              "              title=\"Convert this dataframe to an interactive table.\"\n",
              "              style=\"display:none;\">\n",
              "        \n",
              "  <svg xmlns=\"http://www.w3.org/2000/svg\" height=\"24px\"viewBox=\"0 0 24 24\"\n",
              "       width=\"24px\">\n",
              "    <path d=\"M0 0h24v24H0V0z\" fill=\"none\"/>\n",
              "    <path d=\"M18.56 5.44l.94 2.06.94-2.06 2.06-.94-2.06-.94-.94-2.06-.94 2.06-2.06.94zm-11 1L8.5 8.5l.94-2.06 2.06-.94-2.06-.94L8.5 2.5l-.94 2.06-2.06.94zm10 10l.94 2.06.94-2.06 2.06-.94-2.06-.94-.94-2.06-.94 2.06-2.06.94z\"/><path d=\"M17.41 7.96l-1.37-1.37c-.4-.4-.92-.59-1.43-.59-.52 0-1.04.2-1.43.59L10.3 9.45l-7.72 7.72c-.78.78-.78 2.05 0 2.83L4 21.41c.39.39.9.59 1.41.59.51 0 1.02-.2 1.41-.59l7.78-7.78 2.81-2.81c.8-.78.8-2.07 0-2.86zM5.41 20L4 18.59l7.72-7.72 1.47 1.35L5.41 20z\"/>\n",
              "  </svg>\n",
              "      </button>\n",
              "      \n",
              "  <style>\n",
              "    .colab-df-container {\n",
              "      display:flex;\n",
              "      flex-wrap:wrap;\n",
              "      gap: 12px;\n",
              "    }\n",
              "\n",
              "    .colab-df-convert {\n",
              "      background-color: #E8F0FE;\n",
              "      border: none;\n",
              "      border-radius: 50%;\n",
              "      cursor: pointer;\n",
              "      display: none;\n",
              "      fill: #1967D2;\n",
              "      height: 32px;\n",
              "      padding: 0 0 0 0;\n",
              "      width: 32px;\n",
              "    }\n",
              "\n",
              "    .colab-df-convert:hover {\n",
              "      background-color: #E2EBFA;\n",
              "      box-shadow: 0px 1px 2px rgba(60, 64, 67, 0.3), 0px 1px 3px 1px rgba(60, 64, 67, 0.15);\n",
              "      fill: #174EA6;\n",
              "    }\n",
              "\n",
              "    [theme=dark] .colab-df-convert {\n",
              "      background-color: #3B4455;\n",
              "      fill: #D2E3FC;\n",
              "    }\n",
              "\n",
              "    [theme=dark] .colab-df-convert:hover {\n",
              "      background-color: #434B5C;\n",
              "      box-shadow: 0px 1px 3px 1px rgba(0, 0, 0, 0.15);\n",
              "      filter: drop-shadow(0px 1px 2px rgba(0, 0, 0, 0.3));\n",
              "      fill: #FFFFFF;\n",
              "    }\n",
              "  </style>\n",
              "\n",
              "      <script>\n",
              "        const buttonEl =\n",
              "          document.querySelector('#df-e83dac0c-c5ed-4830-83c1-dd6e5cdafd20 button.colab-df-convert');\n",
              "        buttonEl.style.display =\n",
              "          google.colab.kernel.accessAllowed ? 'block' : 'none';\n",
              "\n",
              "        async function convertToInteractive(key) {\n",
              "          const element = document.querySelector('#df-e83dac0c-c5ed-4830-83c1-dd6e5cdafd20');\n",
              "          const dataTable =\n",
              "            await google.colab.kernel.invokeFunction('convertToInteractive',\n",
              "                                                     [key], {});\n",
              "          if (!dataTable) return;\n",
              "\n",
              "          const docLinkHtml = 'Like what you see? Visit the ' +\n",
              "            '<a target=\"_blank\" href=https://colab.research.google.com/notebooks/data_table.ipynb>data table notebook</a>'\n",
              "            + ' to learn more about interactive tables.';\n",
              "          element.innerHTML = '';\n",
              "          dataTable['output_type'] = 'display_data';\n",
              "          await google.colab.output.renderOutput(dataTable, element);\n",
              "          const docLink = document.createElement('div');\n",
              "          docLink.innerHTML = docLinkHtml;\n",
              "          element.appendChild(docLink);\n",
              "        }\n",
              "      </script>\n",
              "    </div>\n",
              "  </div>\n",
              "  "
            ]
          },
          "metadata": {},
          "execution_count": 6
        }
      ],
      "source": [
        "data_test_df.head()"
      ]
    },
    {
      "cell_type": "markdown",
      "metadata": {
        "id": "Zq5QLrTMLau8"
      },
      "source": [
        "After making a prediction on test data, all predicted lables will be saved in “test_output.csv”. You may use the following code to generate an output file that meets the requirement. The output file will be uploaded to both Kaggle and Canvas."
      ]
    },
    {
      "cell_type": "code",
      "execution_count": null,
      "metadata": {
        "id": "tir_dxLYLau9",
        "colab": {
          "base_uri": "https://localhost:8080/",
          "height": 227
        },
        "outputId": "1f138762-a066-4da5-d9a8-94c7ffd305e8"
      },
      "outputs": [
        {
          "output_type": "error",
          "ename": "NameError",
          "evalue": "ignored",
          "traceback": [
            "\u001b[0;31m---------------------------------------------------------------------------\u001b[0m",
            "\u001b[0;31mNameError\u001b[0m                                 Traceback (most recent call last)",
            "\u001b[0;32m<ipython-input-13-c0483b6dc48a>\u001b[0m in \u001b[0;36m<module>\u001b[0;34m()\u001b[0m\n\u001b[1;32m      2\u001b[0m \u001b[0;31m# (5000,)\u001b[0m\u001b[0;34m\u001b[0m\u001b[0;34m\u001b[0m\u001b[0;34m\u001b[0m\u001b[0m\n\u001b[1;32m      3\u001b[0m \u001b[0;34m\u001b[0m\u001b[0m\n\u001b[0;32m----> 4\u001b[0;31m \u001b[0moutput_df\u001b[0m \u001b[0;34m=\u001b[0m \u001b[0mpd\u001b[0m\u001b[0;34m.\u001b[0m\u001b[0mDataFrame\u001b[0m\u001b[0;34m(\u001b[0m\u001b[0moutput\u001b[0m\u001b[0;34m,\u001b[0m \u001b[0mcolumns\u001b[0m \u001b[0;34m=\u001b[0m \u001b[0;34m[\u001b[0m\u001b[0;34m'label'\u001b[0m\u001b[0;34m]\u001b[0m\u001b[0;34m)\u001b[0m\u001b[0;34m\u001b[0m\u001b[0;34m\u001b[0m\u001b[0m\n\u001b[0m\u001b[1;32m      5\u001b[0m \u001b[0moutput_df\u001b[0m\u001b[0;34m.\u001b[0m\u001b[0mto_csv\u001b[0m\u001b[0;34m(\u001b[0m\u001b[0;34m'./Output/test_output.csv'\u001b[0m\u001b[0;34m,\u001b[0m \u001b[0msep\u001b[0m\u001b[0;34m=\u001b[0m\u001b[0;34m\",\"\u001b[0m\u001b[0;34m,\u001b[0m \u001b[0mfloat_format\u001b[0m\u001b[0;34m=\u001b[0m\u001b[0;34m'%d'\u001b[0m\u001b[0;34m,\u001b[0m \u001b[0mindex_label\u001b[0m\u001b[0;34m=\u001b[0m\u001b[0;34m\"id\"\u001b[0m\u001b[0;34m)\u001b[0m\u001b[0;34m\u001b[0m\u001b[0;34m\u001b[0m\u001b[0m\n",
            "\u001b[0;31mNameError\u001b[0m: name 'output' is not defined"
          ]
        }
      ],
      "source": [
        "# assume output is the predicted labels from classifiers using input as data from test_input.csv\n",
        "# (5000,)\n",
        "\n",
        "output_df = pd.DataFrame(output, columns = ['label'])\n",
        "output_df.to_csv('./Output/test_output.csv', sep=\",\", float_format='%d', index_label=\"id\")"
      ]
    },
    {
      "cell_type": "markdown",
      "metadata": {
        "nbpresent": {
          "id": "aca7ed33-2da5-4fbf-a861-8a886f4020a8"
        },
        "id": "HZkM3Ay7Lau9"
      },
      "source": [
        "We will load the output file using the code for loading data above. It is your responsibility to make sure the output file can be correctly loaded using this code.\n",
        "The performance of your classifier will be evaluated in terms of the top-1 accuracy metric, i.e.<br /><br />\n",
        "<div style=\"text-align: center\"> $$\\text{Accuracy} = \\frac{\\text{Number of correct classifications}}{\\text{Total number of test examples used}} * 100\\%$$"
      ]
    },
    {
      "cell_type": "markdown",
      "metadata": {
        "nbpresent": {
          "id": "1e4a01db-cd92-48f8-bdaa-21c39456cfcb"
        },
        "id": "G7ZpFd35Lau9"
      },
      "source": [
        "# 4. Task description\n",
        "\n",
        "Your task is to determine / build a classifier for the given data set to classify images into categories and write a report. The score allocation is as follows:\n",
        "\n",
        "    1. Code: max 65 points\n",
        "    2. Report: max 35 points\n",
        "    \n",
        "Please refer to the **rubric** in Canvas (Canvas -> Assignment1 -> Rubric) for detailed marking scheme. The report and the code are to be submitted in Canvas by the due date.<br />"
      ]
    },
    {
      "cell_type": "markdown",
      "metadata": {
        "id": "xaNjb3BcLau9"
      },
      "source": [
        "## 4.1 Code\n",
        "### The code must clearly show :\n",
        "    1. Pre-process data\n",
        "    2. Details of your implementation for each algorithm\n",
        "    3. Fine-tune hyper-parameters for each algorithm and running time\n",
        "    4. The comparison result between 4 different algorithms including 3 single methods and one ensemble method\n",
        "    5. Hardware and software specifications of the computer that you used for performance evaluation"
      ]
    },
    {
      "cell_type": "markdown",
      "metadata": {
        "id": "cJ0g349YLau-"
      },
      "source": [
        "### 4.1.1 Data pre-processing"
      ]
    },
    {
      "cell_type": "markdown",
      "metadata": {
        "id": "KCpTjNxKLau-"
      },
      "source": [
        "You will need to have at least one pre-process techique before you can apply the classification algorithms. Pre-process techique can be **Normalisation**, **PCA**, etc."
      ]
    },
    {
      "cell_type": "markdown",
      "source": [
        ""
      ],
      "metadata": {
        "id": "9TUTzAXTkNe4"
      }
    },
    {
      "cell_type": "code",
      "source": [
        "from numpy.lib.function_base import cov\n",
        "def PCA(new_data,new_element):\n",
        "  calculated_mean = np.mean(new_data,axis=0)\n",
        "  new_sample,data_train_feature = np.shape(new_data)\n",
        "  matrix_for_average =np.tile(calculated_mean,(new_sample,1))\n",
        "\n",
        "  centralization_for_data = new_data - matrix_for_average \n",
        "  coveriance_matrix = np.dot(np.transpose(centralization_for_data),centralization_for_data)\n",
        "  eigen_value,eigen_vectors = np.linalg.eig(coveriance_matrix)\n",
        "  index_for_value = np.argsort(eigen_value) \n",
        "  index_for_vector = index_for_value[:-(new_element+1):-1]\n",
        "  new_feature = eigen_vectors[:,index_for_vector]\n",
        "    \n",
        "  decreased_dimension_data = np.dot(centralization_for_data,new_feature)\n",
        "    \n",
        "  final_data = np.dot(decreased_dimension_data,np.transpose(new_feature)) + matrix_for_average \n",
        "    \n",
        "  return decreased_dimension_data\n",
        "  return final_data \n",
        "\n",
        "\n",
        "\n",
        "\n",
        "\n"
      ],
      "metadata": {
        "id": "Xyy23PlZC9qO"
      },
      "execution_count": null,
      "outputs": []
    },
    {
      "cell_type": "code",
      "source": [
        "from sklearn.preprocessing import MinMaxScaler\n",
        "NewScalar = MinMaxScaler()\n",
        "NewScalar.fit(data_train_df)\n",
        "train_normalization = NewScalar.transform(data_train_df)\n",
        "test_norm = NewScalar.transform(data_test_df)\n"
      ],
      "metadata": {
        "id": "XN7Vz8FpWLVO"
      },
      "execution_count": null,
      "outputs": []
    },
    {
      "cell_type": "markdown",
      "source": [
        ""
      ],
      "metadata": {
        "id": "Qvr0Ao4XWK--"
      }
    },
    {
      "cell_type": "markdown",
      "metadata": {
        "id": "SExHBJX_Lau-"
      },
      "source": [
        "### 4.1.2 Classification algorithms "
      ]
    },
    {
      "cell_type": "markdown",
      "metadata": {
        "id": "OlVzjZgjLau-"
      },
      "source": [
        "You will now apply multiple classifiers to the pre-processed dataset. You have to implement at least 3 classifiers in particular:\n",
        "\n",
        "    1. Nearest Neighbor\n",
        "    2. Logistic Regression\n",
        "    3. Naïve Bayes \n",
        "    4. Decision Tree\n",
        "    5. SVM\n",
        "\n",
        "and one ensemble method:\n",
        "    \n",
        "    1. Bagging\n",
        "    2. Boosting\n",
        "    3. Random forest\n",
        "    \n",
        "For binary classifiers, we can use those classifiers for the data which has more than 2 labels using the one-vs-rest method. The implementation can use sklearn, or can be implemented from scratch."
      ]
    },
    {
      "cell_type": "markdown",
      "metadata": {
        "id": "IjFk7ioLLau-"
      },
      "source": [
        "### 4.1.3 Parameter Tuning"
      ]
    },
    {
      "cell_type": "markdown",
      "metadata": {
        "id": "EDXlvPTjLau-"
      },
      "source": [
        "For each classifiers we would like to find the best parameters using grid search with k-fold (k>=5) cross validation."
      ]
    },
    {
      "cell_type": "markdown",
      "metadata": {
        "id": "fF8Kx02JLau-"
      },
      "source": [
        "### 4.1.4 Classifier comparisons"
      ]
    },
    {
      "cell_type": "markdown",
      "metadata": {
        "id": "XsJGVoiiLau_"
      },
      "source": [
        "After finding the best parameter for each algorithm, we would like to make comparisons between all classifiers using their own best hyper-parameters."
      ]
    },
    {
      "cell_type": "markdown",
      "metadata": {
        "id": "jJU9WYXFLau_"
      },
      "source": [
        "## 4.2 Report"
      ]
    },
    {
      "cell_type": "markdown",
      "metadata": {
        "id": "rxLGfwn8Lau_"
      },
      "source": [
        "### The report must clearly show:\n",
        "    1. Details of your classifiers using for assignment 1\n",
        "    2. The predicted results from your classifier on test examples\n",
        "    3. Results comparison and discussion\n",
        "    4. Following the format in rubric : Introduction -> Methods -> Experiments result and discussion -> Conclusion\n",
        "    5. The maximum length of the report is 10 (excluding appendix and references)\n",
        "    6. Clearly provide instructions on how to run your code, hardware and software environments in the Appendix section of your report\n",
        "    7. Detail of student including ID, name\n",
        "    8. Please also refer rubric on Canvas for more detail"
      ]
    },
    {
      "cell_type": "markdown",
      "metadata": {
        "id": "VEF0RYfoLau_"
      },
      "source": [
        "# 5. Instructions to hand in the assignment\n",
        "\n",
        "## 5.1 Submit to Canvas\n",
        "\n",
        "### Go to Canvas -> Assignments -> \"Assignment 1\" and submit 4 files: the report, the code files, and output file.\n",
        "\n",
        "   1. Report (a .pdf file).\n",
        "\n",
        "   2. Code (2 files include: a .ipynb file and a PDF file). PDF is exported from .ipynb file for plagiarism check. The code must be able to be run with the following folder structure:\n",
        "\n",
        "        - Notebook file (in the root folder): Your .ipynb file containing all Python code. The PDF file is generated from .ipynb file (File => Save as PDF file).\n",
        "    \n",
        "        - Input and Output folders: We will copy Input folder including all data and Output folder along with your notebook file to run your code. Please make sure your code is able to read the dataset from this Input folder and generate the output file to Output folder. (No need to submit the dataset and folder)\n",
        "\n",
        "   3. Output file (test_output.csv).\n",
        "\n",
        "If this is an individual work, an individual student still have to register the group on Canvas and submit all the files which must be named with student ID numbers following format e.g. **SIDxxxx_report.pdf**,  **SIDxxxx_code.ipynb**, **SIDxxxx_code.ipynb.pdf**.\n",
        "\n",
        "If this is a group work of 2, all students need to form a group on Canvas and one student submits all the files which must be named with student ID numbers of 2 members following format e.g. **SIDxxxx1_SIDxxxx2_report.pdf**,  **SIDxxxx1_SIDxxxx2_code.ipynb**, **SIDxxxx1_SIDxxxx2_code.ipynb.pdf**.\n",
        "\n",
        "\n",
        "## 5.2 Submit to Kaggle\n",
        "\n",
        "### Go to Kaggle ->  Join Competition -> Data (Download dataset) -> Submit Predictions\n",
        "We use the Kaggle leaderboard for assignment 1. Follow the steps below to use the leaderboard:\n",
        "\n",
        "   1. Use the [Kaggle link](https://www.kaggle.com/t/a781604ffe46a42f903dd4be1b9daf16) to join the competition, you need to create a Kaggle account if you don't have one.\n",
        "   \n",
        "   2. Go to Team -> Use your Canvas Group ID as your team name. You can create a Kaggle team with up to 2 members.\n",
        "\n",
        "   3. Go to Description -> Check the IMPORTANT NOTES for the assignment.\n",
        "    \n",
        "   4. Go to Data -> Download the training data, build your models.\n",
        "    \n",
        "   5. Submit Predictions -> Follow the submission format and submit your prediction output file (test_output.csv).\n",
        "\n",
        "   6. Leaderboard -> Check your accuracy score at the Leaderboard.\n",
        "\n",
        "**IMPORTANT**: This link is only available to the students of COMP5318. All groups need to submit test_output.csv to Kaggle for marking puporse. Only 5 submissions are allowed per day for Kaggle. Group ID on Canvas and Kaggle have to be unique otherwise the submission will not be marked for the Accuracy part.\n",
        "\n",
        "Kaggle link: https://www.kaggle.com/t/a781604ffe46a42f903dd4be1b9daf16"
      ]
    },
    {
      "cell_type": "markdown",
      "metadata": {
        "id": "6cPzGDs3Lau_"
      },
      "source": [
        "### A penalty of MINUS 5 percent (-5%) for each day after the due date. \n",
        "The maximum delay for assignment submission is 5 (five) days, after which assignment will not be accepted.\n",
        "\n",
        "**You should upload your assignment at least half a day or one day prior to the submission deadline to avoid network congestion**.\n",
        "\n",
        "Canvas may not be able to handle a large number of submission happening at the same time. If you submit your assignment at a time close to the deadline, a submission error may occur causing your submission to be considered late. Penalty will be applied to late submission regardless of issues. "
      ]
    },
    {
      "cell_type": "markdown",
      "metadata": {
        "id": "D2CpUGBULau_"
      },
      "source": [
        "### All files required for assignment 1 can be downloaded from Canvas -> Assignments -> Assignment 1\n"
      ]
    },
    {
      "cell_type": "markdown",
      "metadata": {
        "id": "oQDQ6VclLavA"
      },
      "source": [
        "# 6. Inquiries after releasing the marking"
      ]
    },
    {
      "cell_type": "markdown",
      "metadata": {
        "id": "K9uysPd-LavA"
      },
      "source": [
        "**After Assignment 1 marks come out, please submit your inquiries about marking within the 1st week. All inquiries after that will be ignored.**"
      ]
    },
    {
      "cell_type": "markdown",
      "metadata": {
        "id": "Wxj1SnwQLavA"
      },
      "source": [
        "# 7. Academic honesty"
      ]
    },
    {
      "cell_type": "markdown",
      "metadata": {
        "id": "PJ0kvG_ILavA"
      },
      "source": [
        "Please read the University policy on Academic Honesty very carefully: \n",
        "https://sydney.edu.au/students/academic-integrity.html"
      ]
    },
    {
      "cell_type": "markdown",
      "metadata": {
        "id": "xtuWxWzvLavA"
      },
      "source": [
        "Plagiarism (copying from another student, website or other sources), making your work available to another student to copy, engaging another person to complete the assignments instead of you (for payment or not) are all examples of academic dishonesty. Note that when there is copying between students, both students are penalised – the student who copies and the student who makes his/her work available for copying. The University penalties are severe and include: \n",
        "\n",
        "    * a permanent record of academic dishonesty on your student file, \n",
        "    * mark deduction, ranging from 0 for the assignment to Fail for the course\n",
        "    * expulsion from the University and cancelling of your student visa. \n",
        "\n",
        "In addition, the Australian Government passed a new legislation last year (Prohibiting Academic Cheating Services Bill) that makes it a criminal offence to provide or advertise academic cheating services - the provision or undertaking of work for students which forms a substantial part of a student’s assessment task. Do not confuse legitimate co-operation and cheating!"
      ]
    }
  ],
  "metadata": {
    "anaconda-cloud": {},
    "kernelspec": {
      "display_name": "Python 3 (ipykernel)",
      "language": "python",
      "name": "python3"
    },
    "language_info": {
      "codemirror_mode": {
        "name": "ipython",
        "version": 3
      },
      "file_extension": ".py",
      "mimetype": "text/x-python",
      "name": "python",
      "nbconvert_exporter": "python",
      "pygments_lexer": "ipython3",
      "version": "3.9.7"
    },
    "colab": {
      "name": "“Assignment 1_2022.ipynb”的副本",
      "provenance": [],
      "collapsed_sections": [],
      "include_colab_link": true
    }
  },
  "nbformat": 4,
  "nbformat_minor": 0
}